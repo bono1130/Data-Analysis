{
 "cells": [
  {
   "cell_type": "code",
   "execution_count": 1,
   "metadata": {},
   "outputs": [],
   "source": [
    "import numpy as np"
   ]
  },
  {
   "cell_type": "markdown",
   "metadata": {},
   "source": [
    "1. 넘파이를 사용하여 다음과 같은 행렬을 만드시오.\n",
    "<pre>\n",
    "10 20 30 40\n",
    "50 60 70 80"
   ]
  },
  {
   "cell_type": "code",
   "execution_count": 2,
   "metadata": {},
   "outputs": [
    {
     "data": {
      "text/plain": [
       "array([[10, 20, 30, 40],\n",
       "       [50, 60, 70, 80]])"
      ]
     },
     "execution_count": 2,
     "metadata": {},
     "output_type": "execute_result"
    }
   ],
   "source": [
    "np.array([[10,20,30,40],[50,60,70,80]])"
   ]
  },
  {
   "cell_type": "markdown",
   "metadata": {},
   "source": [
    "2."
   ]
  },
  {
   "cell_type": "code",
   "execution_count": 4,
   "metadata": {},
   "outputs": [],
   "source": [
    "m = np.array([[ 0, 1, 2, 3, 4], \n",
    "                [ 5, 6, 7, 8, 9], \n",
    "                [10, 11, 12, 13, 14]])"
   ]
  },
  {
   "cell_type": "code",
   "execution_count": 5,
   "metadata": {},
   "outputs": [
    {
     "data": {
      "text/plain": [
       "7"
      ]
     },
     "execution_count": 5,
     "metadata": {},
     "output_type": "execute_result"
    }
   ],
   "source": [
    "# 이 행렬에서 값 7 을 인덱싱한다.\n",
    "m[1,2]"
   ]
  },
  {
   "cell_type": "code",
   "execution_count": 6,
   "metadata": {},
   "outputs": [
    {
     "data": {
      "text/plain": [
       "14"
      ]
     },
     "execution_count": 6,
     "metadata": {},
     "output_type": "execute_result"
    }
   ],
   "source": [
    "# 이 행렬에서 값 14 을 인덱싱한다.\n",
    "m[-1,-1]"
   ]
  },
  {
   "cell_type": "code",
   "execution_count": 7,
   "metadata": {},
   "outputs": [
    {
     "data": {
      "text/plain": [
       "array([[6, 7]])"
      ]
     },
     "execution_count": 7,
     "metadata": {},
     "output_type": "execute_result"
    }
   ],
   "source": [
    "# 이 행렬에서 배열 [6, 7] 을 슬라이싱한다.\n",
    "m[1:2, 1:3]"
   ]
  },
  {
   "cell_type": "code",
   "execution_count": 8,
   "metadata": {},
   "outputs": [
    {
     "data": {
      "text/plain": [
       "array([[ 7],\n",
       "       [12]])"
      ]
     },
     "execution_count": 8,
     "metadata": {},
     "output_type": "execute_result"
    }
   ],
   "source": [
    "# 이 행렬에서 배열 [7, 12] 을 슬라이싱한다.\n",
    "m[1:, 2:3]"
   ]
  },
  {
   "cell_type": "code",
   "execution_count": 10,
   "metadata": {},
   "outputs": [
    {
     "data": {
      "text/plain": [
       "array([[3, 4],\n",
       "       [8, 9]])"
      ]
     },
     "execution_count": 10,
     "metadata": {},
     "output_type": "execute_result"
    }
   ],
   "source": [
    "# 이 행렬에서 배열 [[3, 4], [8, 9]] 을 슬라이싱한다.\n",
    "m[:-1, 3:]"
   ]
  },
  {
   "cell_type": "markdown",
   "metadata": {},
   "source": [
    "3. 2번의 행렬 m을 1차원 벡터 f 로 변환한 후 다음의 문제를 푸시오."
   ]
  },
  {
   "cell_type": "code",
   "execution_count": 12,
   "metadata": {},
   "outputs": [
    {
     "data": {
      "text/plain": [
       "array([ 0,  1,  2,  3,  4,  5,  6,  7,  8,  9, 10, 11, 12, 13, 14])"
      ]
     },
     "execution_count": 12,
     "metadata": {},
     "output_type": "execute_result"
    }
   ],
   "source": [
    "f = m.flatten()\n",
    "f"
   ]
  },
  {
   "cell_type": "code",
   "execution_count": 13,
   "metadata": {},
   "outputs": [
    {
     "data": {
      "text/plain": [
       "array([ 0,  3,  6,  9, 12])"
      ]
     },
     "execution_count": 13,
     "metadata": {},
     "output_type": "execute_result"
    }
   ],
   "source": [
    "# 이 배열에서 3의 배수를 찾아라.\n",
    "f[f%3 == 0]"
   ]
  },
  {
   "cell_type": "code",
   "execution_count": 14,
   "metadata": {},
   "outputs": [
    {
     "data": {
      "text/plain": [
       "array([ 1,  5,  9, 13])"
      ]
     },
     "execution_count": 14,
     "metadata": {},
     "output_type": "execute_result"
    }
   ],
   "source": [
    "# 이 배열에서 4로 나누면 1이 남는 수를 찾아라.\n",
    "f[f%4 == 1]"
   ]
  },
  {
   "cell_type": "code",
   "execution_count": 22,
   "metadata": {},
   "outputs": [
    {
     "data": {
      "text/plain": [
       "array([9])"
      ]
     },
     "execution_count": 22,
     "metadata": {},
     "output_type": "execute_result"
    }
   ],
   "source": [
    "# 이 배열에서 3으로 나누면 나누어지고 4로 나누면 1이 남는 수를 찾아라.\n",
    "f_index = np.logical_and(f%3==0,f%4==1)\n",
    "f[f_index]"
   ]
  },
  {
   "cell_type": "markdown",
   "metadata": {},
   "source": [
    "4."
   ]
  },
  {
   "cell_type": "code",
   "execution_count": 32,
   "metadata": {},
   "outputs": [
    {
     "data": {
      "text/plain": [
       "array([[2, 1, 0, 0, 0],\n",
       "       [3, 2, 1, 0, 0],\n",
       "       [0, 3, 2, 1, 0],\n",
       "       [0, 0, 3, 2, 1],\n",
       "       [0, 0, 0, 3, 2]])"
      ]
     },
     "execution_count": 32,
     "metadata": {},
     "output_type": "execute_result"
    }
   ],
   "source": [
    "np.eye(5,5,k=-1, dtype=int)+np.eye(5,5,k=-1, dtype=int)+np.eye(5,5,k=-1, dtype=int)+np.eye(5,5,k=0, dtype=int)+np.eye(5,5,k=0, dtype=int)+np.eye(5,5,k=1, dtype=int)"
   ]
  },
  {
   "cell_type": "markdown",
   "metadata": {},
   "source": [
    "5. 0에서 10까지 랜덤 실수값으로 이루어진 5 x 6 형태의 데이터 행렬을 만들고 이 데이터에\n",
    "대해 다음과 같은 값을 구하시오."
   ]
  },
  {
   "cell_type": "code",
   "execution_count": 36,
   "metadata": {},
   "outputs": [
    {
     "data": {
      "text/plain": [
       "array([[ 1,  2,  3,  8,  6,  5],\n",
       "       [ 5,  1,  3,  7,  1,  7],\n",
       "       [ 6,  0, 10,  5,  6, 10],\n",
       "       [ 8, 10,  1,  7, 10,  5],\n",
       "       [ 4,  8,  2,  1,  9,  3]])"
      ]
     },
     "execution_count": 36,
     "metadata": {},
     "output_type": "execute_result"
    }
   ],
   "source": [
    "a = np.random.randint(0,11,30).reshape(5,6)\n",
    "a"
   ]
  },
  {
   "cell_type": "code",
   "execution_count": 37,
   "metadata": {},
   "outputs": [
    {
     "data": {
      "text/plain": [
       "10"
      ]
     },
     "execution_count": 37,
     "metadata": {},
     "output_type": "execute_result"
    }
   ],
   "source": [
    "# 전체의 최댓값\n",
    "a.max()"
   ]
  },
  {
   "cell_type": "code",
   "execution_count": 38,
   "metadata": {},
   "outputs": [
    {
     "data": {
      "text/plain": [
       "array([25, 24, 37, 41, 27])"
      ]
     },
     "execution_count": 38,
     "metadata": {},
     "output_type": "execute_result"
    }
   ],
   "source": [
    "# 각 행의 합\n",
    "a.sum(axis = 1)"
   ]
  },
  {
   "cell_type": "code",
   "execution_count": 39,
   "metadata": {},
   "outputs": [
    {
     "data": {
      "text/plain": [
       "array([ 8,  7, 10, 10,  9])"
      ]
     },
     "execution_count": 39,
     "metadata": {},
     "output_type": "execute_result"
    }
   ],
   "source": [
    "# 각 행의 최댓값\n",
    "a.max(axis = 1)"
   ]
  },
  {
   "cell_type": "code",
   "execution_count": 40,
   "metadata": {},
   "outputs": [
    {
     "data": {
      "text/plain": [
       "array([4.8, 4.2, 3.8, 5.6, 6.4, 6. ])"
      ]
     },
     "execution_count": 40,
     "metadata": {},
     "output_type": "execute_result"
    }
   ],
   "source": [
    "# 각 열의 평균\n",
    "a.mean(axis=0)"
   ]
  },
  {
   "cell_type": "code",
   "execution_count": 41,
   "metadata": {},
   "outputs": [
    {
     "data": {
      "text/plain": [
       "array([1, 0, 1, 1, 1, 3])"
      ]
     },
     "execution_count": 41,
     "metadata": {},
     "output_type": "execute_result"
    }
   ],
   "source": [
    "# 각 열의 최솟값\n",
    "a.min(axis=0)"
   ]
  },
  {
   "cell_type": "markdown",
   "metadata": {},
   "source": [
    "6. 다음 배열은 첫번째 행(row)에 학번, 두번째 행에 영어 성적, 세번째 행에 수학 성적을 적은\n",
    "배열이다. 영어 성적을 기준으로 각 열(column)을 재정렬하시오."
   ]
  },
  {
   "cell_type": "code",
   "execution_count": 43,
   "metadata": {},
   "outputs": [],
   "source": [
    "a = np.array([[ 1, 2, 3, 4],\n",
    "        [ 46, 99, 100, 71],\n",
    "        [ 81, 59, 90, 100]])"
   ]
  },
  {
   "cell_type": "code",
   "execution_count": 53,
   "metadata": {},
   "outputs": [
    {
     "data": {
      "text/plain": [
       "array([[[  1,   4,   2,   3]],\n",
       "\n",
       "       [[ 46,  71,  99, 100]],\n",
       "\n",
       "       [[ 81, 100,  59,  90]]])"
      ]
     },
     "execution_count": 53,
     "metadata": {},
     "output_type": "execute_result"
    }
   ],
   "source": [
    "eng_index = np.argsort(a[1:2])\n",
    "a[:, eng_index]"
   ]
  },
  {
   "cell_type": "markdown",
   "metadata": {},
   "source": [
    "7. 주사위를 100번 던지는 가상 실험을 파이썬으로 작성하고, \n",
    "던져서 나오는 숫자의 평균을 구하시오."
   ]
  },
  {
   "cell_type": "code",
   "execution_count": 56,
   "metadata": {},
   "outputs": [
    {
     "data": {
      "text/plain": [
       "3.12"
      ]
     },
     "execution_count": 56,
     "metadata": {},
     "output_type": "execute_result"
    }
   ],
   "source": [
    "a = np.random.randint(0,7,100)\n",
    "a.mean()"
   ]
  },
  {
   "cell_type": "markdown",
   "metadata": {},
   "source": [
    "8. 가격이 10,000원인 주식이 있다. 이 주식의 일간 수익률(%)은 기댓값이 0%이고 표준편차가 1%\n",
    "인 표준 정규 분포를 따른다고 하자. 250일 동안의 주가를 무작위로 생성하시오."
   ]
  },
  {
   "cell_type": "code",
   "execution_count": 57,
   "metadata": {},
   "outputs": [
    {
     "data": {
      "text/plain": [
       "array([-1.43452604e-01, -1.20716589e+00,  5.01460097e-01, -7.94455151e-01,\n",
       "        2.51967918e-01, -2.40381918e-01, -4.20811554e-02, -4.09910895e-01,\n",
       "        6.44326876e-01,  3.90022511e-01,  3.21678008e-01,  6.67779027e-01,\n",
       "       -1.89650766e+00, -1.03439686e+00,  2.20832325e-01,  7.81988444e-01,\n",
       "       -1.86500523e-01,  1.68379556e+00, -4.91786146e-01,  1.35691157e-01,\n",
       "       -6.40034590e-01,  6.64998278e-01, -2.39186729e-01,  3.20510950e-01,\n",
       "       -6.24054916e-01, -6.23903724e-01,  4.73817106e-01,  1.09789382e+00,\n",
       "       -8.25896204e-03,  5.45210567e-01, -1.55250820e+00,  6.00149266e-01,\n",
       "       -3.02482254e-01,  1.26348272e+00, -5.97395089e-01,  7.67468491e-01,\n",
       "       -1.17220772e-01,  2.07958529e-01,  2.70575595e-01, -1.16884732e+00,\n",
       "        7.52053320e-01, -6.42504402e-01,  2.66507186e+00,  3.24612058e-01,\n",
       "        1.69837920e+00,  2.83273171e-01, -5.26777260e-03, -8.23314576e-02,\n",
       "       -1.08175074e+00, -7.57310078e-01, -1.64749004e+00, -4.06829445e-01,\n",
       "       -1.25435719e+00, -1.35084404e+00, -1.57561399e-01,  9.26665267e-01,\n",
       "        1.06625107e+00,  1.96974251e-01,  1.65446875e-01,  7.98070830e-01,\n",
       "        7.30176715e-01,  7.60761406e-01, -5.11622310e-01,  8.84415173e-01,\n",
       "       -3.87598021e-01,  1.24462324e+00,  8.95628534e-01, -1.03002607e+00,\n",
       "        6.03863202e-01,  1.98957041e+00, -3.43252444e-01,  1.00293133e+00,\n",
       "       -1.22733713e+00,  4.80299277e-01, -1.73398464e+00, -6.43397820e-01,\n",
       "       -1.08299664e+00, -1.86909873e-01,  8.29134092e-01, -1.30766253e+00,\n",
       "       -1.17786474e-01,  4.03753469e-01,  5.28304536e-02,  1.20350151e+00,\n",
       "       -1.75553694e+00,  1.18185694e+00,  1.99807156e-01, -6.19305212e-01,\n",
       "        4.62487364e-01, -1.59820943e-01,  3.82161175e-01,  1.12122518e-01,\n",
       "        2.67115468e-01,  7.07105820e-01,  5.77921972e-01, -2.74868990e-01,\n",
       "        1.06540006e+00,  2.00355195e-01,  9.00652871e-01,  2.63463421e-01,\n",
       "        2.80417770e-01,  1.78025433e+00,  1.08444503e+00,  1.31605660e+00,\n",
       "        1.12958640e+00,  9.91012702e-01,  2.09167214e-01,  2.01116614e+00,\n",
       "        1.39429169e+00, -1.85848020e+00, -7.48762538e-01, -1.95499194e+00,\n",
       "        1.00175423e+00, -2.14578235e+00, -9.63335692e-01,  1.08502985e-01,\n",
       "        7.74148182e-01, -5.89700579e-01, -6.05901691e-01,  1.29154689e+00,\n",
       "        1.68130037e+00, -1.09233891e+00, -1.13590290e+00, -9.50801991e-01,\n",
       "       -2.50974681e-01,  9.30942228e-01,  5.87947741e-01,  1.77068301e-01,\n",
       "       -1.79175212e+00, -7.24156213e-01, -1.25389851e+00,  5.97220893e-01,\n",
       "       -1.48221559e+00,  6.88527397e-01, -1.38079970e+00, -1.07181511e-01,\n",
       "        8.47247163e-01, -9.32006189e-01,  2.20566111e+00, -4.53604345e-01,\n",
       "       -1.00518616e+00,  2.97595534e-01,  5.11193800e-01, -7.91278236e-01,\n",
       "       -1.11052815e+00,  3.26256854e-01,  4.65019203e-01, -9.90360731e-02,\n",
       "        1.13043993e+00,  2.13558058e+00, -1.51287976e+00, -1.21343178e+00,\n",
       "       -6.30832367e-01,  1.39616290e-01, -9.41729077e-01,  2.59647176e-01,\n",
       "        2.36379022e+00,  2.35363883e+00, -4.65802260e-01, -7.77242843e-02,\n",
       "       -5.84864398e-01, -2.47945101e-01, -2.39924359e-04, -7.14075569e-01,\n",
       "       -4.08753328e-01, -1.92382553e-01, -3.19305201e-01,  2.08479109e-01,\n",
       "        1.22875432e+00,  7.07209874e-01, -1.63392134e-01,  1.55724281e+00,\n",
       "        2.09796556e+00,  2.13403546e-01, -8.47474052e-01, -1.14624971e+00,\n",
       "        1.08109314e+00, -1.81201270e-01, -4.80806586e-01, -3.28445208e-03,\n",
       "        4.90900011e-01,  1.52814110e+00, -4.70022659e-01,  1.38173945e-01,\n",
       "        1.23528617e+00,  9.47153616e-01, -8.92777691e-01, -1.10915609e-01,\n",
       "        9.10953288e-01,  9.47769071e-01, -4.08743070e-02, -1.34479100e-01,\n",
       "       -3.37764329e-01,  1.44035757e-01, -2.66447968e-01,  9.08485811e-01,\n",
       "       -1.33866054e-01,  1.98887571e+00,  1.68718121e-02,  1.47276330e+00,\n",
       "       -2.75835016e-01, -7.59785869e-02, -4.00108802e-01, -6.36669327e-01,\n",
       "        7.17278434e-01,  9.46920661e-01, -5.80278871e-01,  1.72457062e+00,\n",
       "       -6.69078721e-01,  1.74305527e+00, -1.09293626e-02, -6.30139642e-01,\n",
       "        1.59224416e+00, -1.62993092e+00,  1.98165822e+00,  6.95461948e-01,\n",
       "        1.59413273e-01,  4.31341198e-01,  1.05638230e+00, -7.53134860e-01,\n",
       "       -3.07018653e-01,  2.50689346e-01, -6.76467708e-01, -1.00985268e-01,\n",
       "       -1.32479048e+00,  4.03186002e-01,  2.59038213e+00,  1.58272004e+00,\n",
       "        8.07713996e-01, -3.25118679e-01, -2.56640860e-01,  1.12373866e+00,\n",
       "       -7.55055185e-01,  9.19711757e-01,  7.51754075e-02,  6.20613412e-01,\n",
       "        1.10246913e+00, -1.22866815e+00,  3.33423034e-01, -3.50167782e-01,\n",
       "       -1.60937702e+00,  6.44839663e-01, -1.28541578e+00, -5.07652304e-01,\n",
       "        7.40632488e-01, -1.22488242e-01,  6.53502154e-01, -6.83892519e-01,\n",
       "       -1.77487136e+00,  5.09771372e-01])"
      ]
     },
     "execution_count": 57,
     "metadata": {},
     "output_type": "execute_result"
    }
   ],
   "source": [
    "np.random.randn(250)"
   ]
  },
  {
   "cell_type": "code",
   "execution_count": null,
   "metadata": {},
   "outputs": [],
   "source": []
  }
 ],
 "metadata": {
  "interpreter": {
   "hash": "27cc1592400a49e29347d731bddc25ead99330001d369613af25ccd9674a593a"
  },
  "kernelspec": {
   "display_name": "Python 3.9.7 ('base')",
   "language": "python",
   "name": "python3"
  },
  "language_info": {
   "codemirror_mode": {
    "name": "ipython",
    "version": 3
   },
   "file_extension": ".py",
   "mimetype": "text/x-python",
   "name": "python",
   "nbconvert_exporter": "python",
   "pygments_lexer": "ipython3",
   "version": "3.9.7"
  },
  "orig_nbformat": 4
 },
 "nbformat": 4,
 "nbformat_minor": 2
}
