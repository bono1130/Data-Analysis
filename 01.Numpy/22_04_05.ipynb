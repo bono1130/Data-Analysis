{
 "cells": [
  {
   "cell_type": "code",
   "execution_count": 2,
   "metadata": {},
   "outputs": [],
   "source": [
    "import numpy as np"
   ]
  },
  {
   "cell_type": "markdown",
   "metadata": {},
   "source": [
    "1. 넘파이를 사용하여 다음과 같은 행렬을 만드시오.\n",
    "<pre>\n",
    "10 20 30 40\n",
    "50 60 70 80"
   ]
  },
  {
   "cell_type": "code",
   "execution_count": 3,
   "metadata": {},
   "outputs": [
    {
     "data": {
      "text/plain": [
       "array([[10, 20, 30, 40],\n",
       "       [50, 60, 70, 80]])"
      ]
     },
     "execution_count": 3,
     "metadata": {},
     "output_type": "execute_result"
    }
   ],
   "source": [
    "np.array([[10,20,30,40],[50,60,70,80]])\n",
    "# np.arange(10,81,10).reshape(2,4)"
   ]
  },
  {
   "cell_type": "markdown",
   "metadata": {},
   "source": [
    "2."
   ]
  },
  {
   "cell_type": "code",
   "execution_count": 4,
   "metadata": {},
   "outputs": [],
   "source": [
    "m = np.array([[ 0, 1, 2, 3, 4], \n",
    "                [ 5, 6, 7, 8, 9], \n",
    "                [10, 11, 12, 13, 14]])"
   ]
  },
  {
   "cell_type": "code",
   "execution_count": 5,
   "metadata": {},
   "outputs": [
    {
     "data": {
      "text/plain": [
       "7"
      ]
     },
     "execution_count": 5,
     "metadata": {},
     "output_type": "execute_result"
    }
   ],
   "source": [
    "# 이 행렬에서 값 7 을 인덱싱한다.\n",
    "m[1,2]"
   ]
  },
  {
   "cell_type": "code",
   "execution_count": 6,
   "metadata": {},
   "outputs": [
    {
     "data": {
      "text/plain": [
       "14"
      ]
     },
     "execution_count": 6,
     "metadata": {},
     "output_type": "execute_result"
    }
   ],
   "source": [
    "# 이 행렬에서 값 14 을 인덱싱한다.\n",
    "m[-1,-1]"
   ]
  },
  {
   "cell_type": "code",
   "execution_count": 7,
   "metadata": {},
   "outputs": [
    {
     "data": {
      "text/plain": [
       "array([[6, 7]])"
      ]
     },
     "execution_count": 7,
     "metadata": {},
     "output_type": "execute_result"
    }
   ],
   "source": [
    "# 이 행렬에서 배열 [6, 7] 을 슬라이싱한다.\n",
    "m[1:2, 1:3]"
   ]
  },
  {
   "cell_type": "code",
   "execution_count": 8,
   "metadata": {},
   "outputs": [
    {
     "data": {
      "text/plain": [
       "array([[ 7],\n",
       "       [12]])"
      ]
     },
     "execution_count": 8,
     "metadata": {},
     "output_type": "execute_result"
    }
   ],
   "source": [
    "# 이 행렬에서 배열 [7, 12] 을 슬라이싱한다.\n",
    "m[1:, 2:3]"
   ]
  },
  {
   "cell_type": "code",
   "execution_count": 9,
   "metadata": {},
   "outputs": [
    {
     "data": {
      "text/plain": [
       "array([[3, 4],\n",
       "       [8, 9]])"
      ]
     },
     "execution_count": 9,
     "metadata": {},
     "output_type": "execute_result"
    }
   ],
   "source": [
    "# 이 행렬에서 배열 [[3, 4], [8, 9]] 을 슬라이싱한다.\n",
    "m[:-1, 3:]"
   ]
  },
  {
   "cell_type": "markdown",
   "metadata": {},
   "source": [
    "3. 2번의 행렬 m을 1차원 벡터 f 로 변환한 후 다음의 문제를 푸시오."
   ]
  },
  {
   "cell_type": "code",
   "execution_count": 10,
   "metadata": {},
   "outputs": [
    {
     "data": {
      "text/plain": [
       "array([ 0,  1,  2,  3,  4,  5,  6,  7,  8,  9, 10, 11, 12, 13, 14])"
      ]
     },
     "execution_count": 10,
     "metadata": {},
     "output_type": "execute_result"
    }
   ],
   "source": [
    "f = m.flatten()\n",
    "f"
   ]
  },
  {
   "cell_type": "code",
   "execution_count": 11,
   "metadata": {},
   "outputs": [
    {
     "data": {
      "text/plain": [
       "array([ 0,  3,  6,  9, 12])"
      ]
     },
     "execution_count": 11,
     "metadata": {},
     "output_type": "execute_result"
    }
   ],
   "source": [
    "# 이 배열에서 3의 배수를 찾아라.\n",
    "f[f%3 == 0]"
   ]
  },
  {
   "cell_type": "code",
   "execution_count": 12,
   "metadata": {},
   "outputs": [
    {
     "data": {
      "text/plain": [
       "array([ 1,  5,  9, 13])"
      ]
     },
     "execution_count": 12,
     "metadata": {},
     "output_type": "execute_result"
    }
   ],
   "source": [
    "# 이 배열에서 4로 나누면 1이 남는 수를 찾아라.\n",
    "f[f%4 == 1]"
   ]
  },
  {
   "cell_type": "code",
   "execution_count": 13,
   "metadata": {},
   "outputs": [
    {
     "data": {
      "text/plain": [
       "array([9])"
      ]
     },
     "execution_count": 13,
     "metadata": {},
     "output_type": "execute_result"
    }
   ],
   "source": [
    "# 이 배열에서 3으로 나누면 나누어지고 4로 나누면 1이 남는 수를 찾아라.\n",
    "# f[np.logical_and(f%3==0,f%4==1)]\n",
    "f_index = np.logical_and(f%3==0,f%4==1)\n",
    "f[f_index]"
   ]
  },
  {
   "cell_type": "markdown",
   "metadata": {},
   "source": [
    "4."
   ]
  },
  {
   "cell_type": "code",
   "execution_count": 15,
   "metadata": {},
   "outputs": [
    {
     "data": {
      "text/plain": [
       "array([[2, 1, 0, 0, 0],\n",
       "       [3, 2, 1, 0, 0],\n",
       "       [0, 3, 2, 1, 0],\n",
       "       [0, 0, 3, 2, 1],\n",
       "       [0, 0, 0, 3, 2]])"
      ]
     },
     "execution_count": 15,
     "metadata": {},
     "output_type": "execute_result"
    }
   ],
   "source": [
    "# np.eye(5,5,-1,int)*3 +  np.eye(5,5,0,int)*2 + np.eye(5,5,1,int)\n",
    "np.eye(5,5,k=-1, dtype=int)+np.eye(5,5,k=-1, dtype=int)+np.eye(5,5,k=-1, dtype=int)+np.eye(5,5,k=0, dtype=int)+np.eye(5,5,k=0, dtype=int)+np.eye(5,5,k=1, dtype=int)"
   ]
  },
  {
   "cell_type": "markdown",
   "metadata": {},
   "source": [
    "5. 0에서 10까지 랜덤 실수값으로 이루어진 5 x 6 형태의 데이터 행렬을 만들고 이 데이터에\n",
    "대해 다음과 같은 값을 구하시오."
   ]
  },
  {
   "cell_type": "code",
   "execution_count": 16,
   "metadata": {},
   "outputs": [
    {
     "data": {
      "text/plain": [
       "array([[0.6696, 5.9912, 4.88  , 4.7407, 0.6245, 7.6579],\n",
       "       [2.5491, 4.6515, 8.2082, 5.8091, 4.4894, 4.2009],\n",
       "       [2.4167, 1.1   , 3.6199, 5.4347, 1.9219, 2.5992],\n",
       "       [2.4473, 9.9215, 7.8748, 0.9618, 7.8523, 9.9427],\n",
       "       [1.6524, 0.3414, 0.8516, 7.8526, 3.2237, 9.6921]])"
      ]
     },
     "execution_count": 16,
     "metadata": {},
     "output_type": "execute_result"
    }
   ],
   "source": [
    "a = np.random.uniform(0,10,30).reshape(5,6).round(4)\n",
    "a"
   ]
  },
  {
   "cell_type": "code",
   "execution_count": 17,
   "metadata": {},
   "outputs": [
    {
     "data": {
      "text/plain": [
       "9.9427"
      ]
     },
     "execution_count": 17,
     "metadata": {},
     "output_type": "execute_result"
    }
   ],
   "source": [
    "# 전체의 최댓값\n",
    "a.max()"
   ]
  },
  {
   "cell_type": "code",
   "execution_count": 18,
   "metadata": {},
   "outputs": [
    {
     "data": {
      "text/plain": [
       "array([24.5639, 29.9082, 17.0924, 39.0004, 23.6138])"
      ]
     },
     "execution_count": 18,
     "metadata": {},
     "output_type": "execute_result"
    }
   ],
   "source": [
    "# 각 행의 합\n",
    "a.sum(axis = 1)"
   ]
  },
  {
   "cell_type": "code",
   "execution_count": 19,
   "metadata": {},
   "outputs": [
    {
     "data": {
      "text/plain": [
       "array([7.6579, 8.2082, 5.4347, 9.9427, 9.6921])"
      ]
     },
     "execution_count": 19,
     "metadata": {},
     "output_type": "execute_result"
    }
   ],
   "source": [
    "# 각 행의 최댓값\n",
    "a.max(axis = 1)"
   ]
  },
  {
   "cell_type": "code",
   "execution_count": 20,
   "metadata": {},
   "outputs": [
    {
     "data": {
      "text/plain": [
       "array([1.94702, 4.40112, 5.0869 , 4.95978, 3.62236, 6.81856])"
      ]
     },
     "execution_count": 20,
     "metadata": {},
     "output_type": "execute_result"
    }
   ],
   "source": [
    "# 각 열의 평균\n",
    "a.mean(axis=0)"
   ]
  },
  {
   "cell_type": "code",
   "execution_count": 21,
   "metadata": {},
   "outputs": [
    {
     "data": {
      "text/plain": [
       "array([0.6696, 0.3414, 0.8516, 0.9618, 0.6245, 2.5992])"
      ]
     },
     "execution_count": 21,
     "metadata": {},
     "output_type": "execute_result"
    }
   ],
   "source": [
    "# 각 열의 최솟값\n",
    "a.min(axis=0)"
   ]
  },
  {
   "cell_type": "markdown",
   "metadata": {},
   "source": [
    "6. 다음 배열은 첫번째 행(row)에 학번, 두번째 행에 영어 성적, 세번째 행에 수학 성적을 적은\n",
    "배열이다. 영어 성적을 기준으로 각 열(column)을 재정렬하시오."
   ]
  },
  {
   "cell_type": "code",
   "execution_count": 22,
   "metadata": {},
   "outputs": [],
   "source": [
    "a = np.array([[ 1, 2, 3, 4],\n",
    "        [ 46, 99, 100, 71],\n",
    "        [ 81, 59, 90, 100]])"
   ]
  },
  {
   "cell_type": "code",
   "execution_count": 27,
   "metadata": {},
   "outputs": [
    {
     "data": {
      "text/plain": [
       "array([[  3,   2,   4,   1],\n",
       "       [100,  99,  71,  46],\n",
       "       [ 90,  59, 100,  81]])"
      ]
     },
     "execution_count": 27,
     "metadata": {},
     "output_type": "execute_result"
    }
   ],
   "source": [
    "eng_index = np.argsort(a[1])\n",
    "a[:, eng_index[::-1]]"
   ]
  },
  {
   "cell_type": "markdown",
   "metadata": {},
   "source": [
    "7. 주사위를 100번 던지는 가상 실험을 파이썬으로 작성하고, \n",
    "던져서 나오는 숫자의 평균을 구하시오."
   ]
  },
  {
   "cell_type": "code",
   "execution_count": 28,
   "metadata": {},
   "outputs": [
    {
     "data": {
      "text/plain": [
       "3.61"
      ]
     },
     "execution_count": 28,
     "metadata": {},
     "output_type": "execute_result"
    }
   ],
   "source": [
    "a = np.random.randint(1,7,100)\n",
    "a.mean()"
   ]
  },
  {
   "cell_type": "markdown",
   "metadata": {},
   "source": [
    "8. 가격이 10,000원인 주식이 있다. 이 주식의 일간 수익률(%)은 기댓값이 0%이고 표준편차가 1%\n",
    "인 표준 정규 분포를 따른다고 하자. 250일 동안의 주가를 무작위로 생성하시오."
   ]
  },
  {
   "cell_type": "code",
   "execution_count": 31,
   "metadata": {},
   "outputs": [
    {
     "name": "stdout",
     "output_type": "stream",
     "text": [
      "9939 9926 9858 9950 9766 9720 9943 9992 10063 10169 10174 10200 10260 10351 10246 10232 10187 10237 10217 10087 10117 10128 10131 10260 10370 10413 10574 10541 10396 10539 10542 10508 10419 10374 10235 10256 10110 10054 10062 10011 10116 10214 10222 10178 10234 10261 10262 10328 10310 10382 10259 10225 10228 10115 10059 9855 9994 10057 10280 10226 10282 10273 10406 10388 10563 10452 10519 10501 10384 10382 10194 10215 10269 10165 9977 9994 10073 10066 10150 10130 10121 10209 10123 10206 10278 10339 10286 10300 10146 10208 10348 10172 10119 9994 9706 9704 9540 9481 9564 9728 9731 9648 9674 9506 9518 9503 9580 9495 9489 9476 9460 9585 9435 9380 9421 9350 9264 9038 8894 8811 8762 8743 8679 8711 8801 8828 8879 8771 8703 8672 8970 9002 9022 9051 9032 9004 9151 9167 9177 9185 9213 9178 9096 9177 9256 9327 9383 9407 9224 9165 9127 9148 9081 9228 9088 9129 9050 8954 8888 8871 8842 8913 8932 8929 9011 8962 9129 9291 9249 9125 9212 9353 9329 9199 9207 9183 9224 9306 9185 9170 9014 8994 9043 9117 9089 9247 9328 9402 9365 9260 9423 9517 9315 9493 9393 9401 9490 9439 9440 9304 9398 9362 9391 9503 9549 9629 9747 9915 9894 9774 9837 9714 9717 9771 9923 10050 9997 10242 10067 10112 10007 9859 9808 9806 9997 10034 9936 9971 9907 9883 9832 9800 9658 9656 9375 9338 9394 9222 8958 9020 9129 9190 9133 9122 9160 9055 9051 9083 8855 8844 "
     ]
    }
   ],
   "source": [
    "np.random.seed(40)\n",
    "rate = np.random.normal(0,0.01,250)             # 표준 정규 분포를 따르는 수익율. % 이므로 0과 0.01사이로 조정\n",
    "price = 10000\n",
    "for i in range(250):\n",
    "    price = np.round(price*(1+rate[i]))\n",
    "    print(int(price), end = ' ')"
   ]
  },
  {
   "cell_type": "code",
   "execution_count": 32,
   "metadata": {},
   "outputs": [
    {
     "name": "stdout",
     "output_type": "stream",
     "text": [
      "9939 9926 9858 9950 9766 9720 9943 9992 10063 10169 10174 10200 10260 10351 10246 10232 10187 10237 10217 10087 10117 10128 10131 10260 10370 10413 10574 10541 10396 10539 10542 10508 10419 10374 10235 10256 10110 10054 10062 10011 10116 10214 10222 10178 10234 10261 10262 10328 10310 10382 10259 10225 10228 10115 10059 9855 9994 10057 10280 10226 10282 10273 10406 10388 10563 10452 10519 10501 10384 10382 10194 10215 10269 10165 9977 9994 10073 10066 10150 10130 10121 10209 10123 10206 10278 10339 10286 10300 10146 10208 10348 10172 10119 9994 9706 9704 9540 9481 9564 9728 9731 9648 9674 9506 9518 9503 9580 9495 9489 9476 9460 9585 9435 9380 9421 9350 9264 9038 8894 8811 8762 8743 8679 8711 8801 8828 8879 8771 8703 8672 8970 9002 9022 9051 9032 9004 9151 9167 9177 9185 9213 9178 9096 9177 9256 9327 9383 9407 9224 9165 9127 9148 9081 9228 9088 9129 9050 8954 8888 8871 8842 8913 8932 8929 9011 8962 9129 9291 9249 9125 9212 9353 9329 9199 9207 9183 9224 9306 9185 9170 9014 8994 9043 9117 9089 9247 9328 9402 9365 9260 9423 9517 9315 9493 9393 9401 9490 9439 9440 9304 9398 9362 9391 9503 9549 9629 9747 9915 9894 9774 9837 9714 9717 9771 9923 10050 9997 10242 10067 10112 10007 9859 9808 9806 9997 10034 9936 9971 9907 9883 9832 9800 9658 9656 9375 9338 9394 9222 8958 9020 9129 9190 9133 9122 9160 9055 9051 9083 8855 8844 "
     ]
    }
   ],
   "source": [
    "np.random.seed(40)\n",
    "rate = np.random.randn(250)                 # 표준 정규 분포 사용\n",
    "price = 10000\n",
    "for i in range(250):\n",
    "    price = np.round(price*(1+rate[i]*0.01))        # 여기서 0.01을 곱해준다\n",
    "    print(int(price), end = ' ')"
   ]
  },
  {
   "cell_type": "code",
   "execution_count": null,
   "metadata": {},
   "outputs": [],
   "source": []
  }
 ],
 "metadata": {
  "interpreter": {
   "hash": "27cc1592400a49e29347d731bddc25ead99330001d369613af25ccd9674a593a"
  },
  "kernelspec": {
   "display_name": "Python 3.9.7 ('base')",
   "language": "python",
   "name": "python3"
  },
  "language_info": {
   "codemirror_mode": {
    "name": "ipython",
    "version": 3
   },
   "file_extension": ".py",
   "mimetype": "text/x-python",
   "name": "python",
   "nbconvert_exporter": "python",
   "pygments_lexer": "ipython3",
   "version": "3.9.7"
  },
  "orig_nbformat": 4
 },
 "nbformat": 4,
 "nbformat_minor": 2
}
